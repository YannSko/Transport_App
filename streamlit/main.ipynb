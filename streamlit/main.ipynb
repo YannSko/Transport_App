{
 "cells": [
  {
   "cell_type": "code",
   "execution_count": null,
   "metadata": {},
   "outputs": [],
   "source": [
    "from datetime import datetime\n",
    "import plotly.express as px\n",
    "import streamlit as st\n",
    "import pandas as pd\n",
    "import json"
   ]
  },
  {
   "cell_type": "code",
   "execution_count": null,
   "metadata": {},
   "outputs": [],
   "source": [
    "# Extraction des données\n",
    "data_json = json.loads(\"./data/traces-du-reseau-ferre-idf.json\")\n",
    "features = data_json[\"features\"]\n",
    "data = []\n",
    "\n",
    "for feature in features:\n",
    "    properties = feature[\"properties\"]\n",
    "    date_mes = datetime.fromisoformat(properties[\"date_mes\"][:-1])  # Conversion de la date\n",
    "    shape_leng = properties[\"shape_leng\"]\n",
    "    data.append({\"date_mes\": date_mes, \"shape_leng\": shape_leng})\n",
    "\n",
    "# Création d'un DataFrame\n",
    "df = pd.DataFrame(data)\n",
    "\n",
    "# Application Streamlit\n",
    "st.title(\"Visualisation des Données de Transport\")\n",
    "\n",
    "# Affichage du DataFrame\n",
    "st.write(df)\n",
    "\n",
    "# Graphique de longueur des lignes en fonction des dates\n",
    "fig = px.line(df, x=\"date_mes\", y=\"shape_leng\", title=\"Longueur des Lignes en Fonction des Dates\")\n",
    "st.plotly_chart(fig)\n",
    "\n",
    "# Graphique à barres pour une meilleure visualisation des longueurs\n",
    "fig_bar = px.bar(df, x=\"date_mes\", y=\"shape_leng\", title=\"Longueur des Lignes en Fonction des Dates (Bar Chart)\")\n",
    "st.plotly_chart(fig_bar)"
   ]
  }
 ],
 "metadata": {
  "language_info": {
   "name": "python"
  }
 },
 "nbformat": 4,
 "nbformat_minor": 2
}
