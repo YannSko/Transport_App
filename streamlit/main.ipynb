{
 "cells": [
  {
   "cell_type": "code",
   "execution_count": 2,
   "metadata": {},
   "outputs": [],
   "source": [
    "from datetime import datetime\n",
    "import plotly.express as px\n",
    "import streamlit as st\n",
    "import pandas as pd\n",
    "import json"
   ]
  },
  {
   "cell_type": "code",
   "execution_count": 9,
   "metadata": {},
   "outputs": [
    {
     "ename": "KeyError",
     "evalue": "'date_mes'",
     "output_type": "error",
     "traceback": [
      "\u001b[1;31m---------------------------------------------------------------------------\u001b[0m",
      "\u001b[1;31mKeyError\u001b[0m                                  Traceback (most recent call last)",
      "\u001b[1;32mc:\\Users\\DJLOPEZ\\Documents\\taff\\DEV\\projet école\\Transport_App\\streamlit\\main.ipynb Cell 2\u001b[0m line \u001b[0;36m1\n\u001b[0;32m     <a href='vscode-notebook-cell:/c%3A/Users/DJLOPEZ/Documents/taff/DEV/projet%20%C3%A9cole/Transport_App/streamlit/main.ipynb#W1sZmlsZQ%3D%3D?line=10'>11</a>\u001b[0m \u001b[39mfor\u001b[39;00m feature \u001b[39min\u001b[39;00m features:\n\u001b[0;32m     <a href='vscode-notebook-cell:/c%3A/Users/DJLOPEZ/Documents/taff/DEV/projet%20%C3%A9cole/Transport_App/streamlit/main.ipynb#W1sZmlsZQ%3D%3D?line=11'>12</a>\u001b[0m     properties \u001b[39m=\u001b[39m feature[\u001b[39m\"\u001b[39m\u001b[39mproperties\u001b[39m\u001b[39m\"\u001b[39m]\n\u001b[1;32m---> <a href='vscode-notebook-cell:/c%3A/Users/DJLOPEZ/Documents/taff/DEV/projet%20%C3%A9cole/Transport_App/streamlit/main.ipynb#W1sZmlsZQ%3D%3D?line=12'>13</a>\u001b[0m     date_mes \u001b[39m=\u001b[39m datetime\u001b[39m.\u001b[39mfromisoformat(properties[\u001b[39m\"\u001b[39;49m\u001b[39mdate_mes\u001b[39;49m\u001b[39m\"\u001b[39;49m][:\u001b[39m-\u001b[39m\u001b[39m1\u001b[39m])  \u001b[39m# Conversion de la date\u001b[39;00m\n\u001b[0;32m     <a href='vscode-notebook-cell:/c%3A/Users/DJLOPEZ/Documents/taff/DEV/projet%20%C3%A9cole/Transport_App/streamlit/main.ipynb#W1sZmlsZQ%3D%3D?line=13'>14</a>\u001b[0m     shape_leng \u001b[39m=\u001b[39m properties[\u001b[39m\"\u001b[39m\u001b[39mshape_leng\u001b[39m\u001b[39m\"\u001b[39m]\n\u001b[0;32m     <a href='vscode-notebook-cell:/c%3A/Users/DJLOPEZ/Documents/taff/DEV/projet%20%C3%A9cole/Transport_App/streamlit/main.ipynb#W1sZmlsZQ%3D%3D?line=14'>15</a>\u001b[0m     data\u001b[39m.\u001b[39mappend({\u001b[39m\"\u001b[39m\u001b[39mdate_mes\u001b[39m\u001b[39m\"\u001b[39m: date_mes, \u001b[39m\"\u001b[39m\u001b[39mshape_leng\u001b[39m\u001b[39m\"\u001b[39m: shape_leng})\n",
      "\u001b[1;31mKeyError\u001b[0m: 'date_mes'"
     ]
    }
   ],
   "source": [
    "# Extraction des données\n",
    "file_path = './data/traces-du-reseau-ferre-idf.json'\n",
    "with open(file_path, 'r') as file:\n",
    "    data_json = json.load(file)\n",
    "\n",
    "features = data_json[\"features\"]\n",
    "data = []\n",
    "\n",
    "features\n",
    "\n",
    "for feature in features:\n",
    "    properties = feature[\"properties\"]\n",
    "    date_mes = datetime.fromisoformat(properties[\"date_mes\"][:-1])  # Conversion de la date\n",
    "    shape_leng = properties[\"shape_leng\"]\n",
    "    data.append({\"date_mes\": date_mes, \"shape_leng\": shape_leng})\n",
    "\n",
    "df = pd.DataFrame(data)\n",
    "\n",
    "st.title(\"Visualisation des Données de Transport\")\n",
    "\n",
    "st.write(df)\n",
    "\n",
    "fig = px.line(df, x=\"date_mes\", y=\"shape_leng\", title=\"Longueur des Lignes en Fonction des Dates\")\n",
    "st.plotly_chart(fig)\n",
    "\n",
    "fig_bar = px.bar(df, x=\"date_mes\", y=\"shape_leng\", title=\"Longueur des Lignes en Fonction des Dates (Bar Chart)\")\n",
    "st.plotly_chart(fig_bar)"
   ]
  }
 ],
 "metadata": {
  "kernelspec": {
   "display_name": "Python 3",
   "language": "python",
   "name": "python3"
  },
  "language_info": {
   "codemirror_mode": {
    "name": "ipython",
    "version": 3
   },
   "file_extension": ".py",
   "mimetype": "text/x-python",
   "name": "python",
   "nbconvert_exporter": "python",
   "pygments_lexer": "ipython3",
   "version": "3.12.1"
  }
 },
 "nbformat": 4,
 "nbformat_minor": 2
}
