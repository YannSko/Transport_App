{
 "cells": [
  {
   "cell_type": "code",
   "execution_count": 3,
   "metadata": {},
   "outputs": [
    {
     "name": "stdout",
     "output_type": "stream",
     "text": [
      "Titre: 🚧 Travaux durant les vacances scolaires\n",
      "Description: Pour cause de travaux, certaines lignes et stations sont fermées ces vacances scolaires du 06 au 21/04. \n",
      "Avant de vous déplacer, pensez à bien vérifier l'état du trafic sur votre ligne.\n",
      "Date de création: 2024-04-05 12:00:01+00:00\n",
      "Date de mise à jour: 2024-04-15 07:15:06+00:00\n",
      "Lien: https://me-deplacer.iledefrance-mobilites.fr/banner/pour-cause-de-travaux-certaines-lignes-et-certaines11121\n",
      "Type de lien: 2\n",
      "Texte brut de la page: Lignes de métro   La Défense / Château de Vincennes   Le 21/04 jusqu'à 12h : Trafic interrompu sur l...\n",
      "-----\n",
      "\n"
     ]
    }
   ],
   "source": [
    "import pandas as pd\n",
    "\n",
    "def load_and_filter_data(filepath, start_date, end_date):\n",
    "    # Charger le fichier CSV\n",
    "    data = pd.read_csv(filepath, delimiter=';', quotechar='\"', encoding='utf-8')\n",
    "    \n",
    "    # Convertir les colonnes de dates en datetime\n",
    "    data['createdDate'] = pd.to_datetime(data['createdDate'])\n",
    "    data['updatedDate'] = pd.to_datetime(data['updatedDate'])\n",
    "    \n",
    "    # Filtrer les données entre deux dates\n",
    "    filtered_data = data[(data['createdDate'] >= start_date) & (data['createdDate'] <= end_date)]\n",
    "    \n",
    "    return filtered_data\n",
    "\n",
    "def display_information(data):\n",
    "    # Afficher les informations pertinentes\n",
    "    for index, row in data.iterrows():\n",
    "        print(f\"Titre: {row['title']}\")\n",
    "        print(f\"Description: {row['description']}\")\n",
    "        print(f\"Date de création: {row['createdDate']}\")\n",
    "        print(f\"Date de mise à jour: {row['updatedDate']}\")\n",
    "        print(f\"Lien: {row['link']}\")\n",
    "        print(f\"Type de lien: {row['linkType']}\")\n",
    "        print(f\"Texte brut de la page: {row['textpage_brute'][:100]}...\")  # Affiche les 100 premiers caractères du texte brut\n",
    "        print(\"-----\\n\")\n",
    "\n",
    "# Chemin du fichier CSV\n",
    "file_path = 'actualites.csv'\n",
    "\n",
    "# Dates de début et de fin pour le filtre\n",
    "start_date = '2024-04-01'\n",
    "end_date = '2024-04-30'\n",
    "\n",
    "# Charger les données filtrées\n",
    "filtered_data = load_and_filter_data(file_path, start_date, end_date)\n",
    "\n",
    "# Afficher les informations extraites\n",
    "display_information(filtered_data)\n"
   ]
  },
  {
   "cell_type": "code",
   "execution_count": 5,
   "metadata": {},
   "outputs": [
    {
     "name": "stdout",
     "output_type": "stream",
     "text": [
      "  createdDate                                    title  \\\n",
      "0  2024-04-05  🚧 Travaux durant les vacances scolaires   \n",
      "\n",
      "                                         description   Location  \n",
      "0  Pour cause de travaux, certaines lignes et sta...  déplacer,  \n"
     ]
    }
   ],
   "source": [
    "import pandas as pd\n",
    "\n",
    "def extract_location(description):\n",
    "    # Cette fonction est un exemple et doit être adaptée selon le format des descriptions\n",
    "    # Recherchez des motifs spécifiques ou des mots clés pour extraire les lieux\n",
    "    words = description.split()\n",
    "    locations = [word for word in words if \"place\" in word or \"city\" in word]  # Exemple simpliste\n",
    "    return \", \".join(locations)\n",
    "\n",
    "# Charger le fichier CSV\n",
    "data = pd.read_csv('actualites.csv', delimiter=';', quotechar='\"', encoding='utf-8')\n",
    "\n",
    "# Convertir les colonnes de dates en datetime\n",
    "data['createdDate'] = pd.to_datetime(data['createdDate']).dt.date\n",
    "\n",
    "# Créer une nouvelle colonne pour les lieux extraits\n",
    "data['Location'] = data['description'].apply(extract_location)\n",
    "\n",
    "# Sélectionner les colonnes d'intérêt\n",
    "result_table = data[['createdDate', 'title', 'description', 'Location']]\n",
    "\n",
    "# Afficher le tableau\n",
    "print(result_table.head())\n"
   ]
  }
 ],
 "metadata": {
  "kernelspec": {
   "display_name": "base",
   "language": "python",
   "name": "python3"
  },
  "language_info": {
   "codemirror_mode": {
    "name": "ipython",
    "version": 3
   },
   "file_extension": ".py",
   "mimetype": "text/x-python",
   "name": "python",
   "nbconvert_exporter": "python",
   "pygments_lexer": "ipython3",
   "version": "3.11.5"
  }
 },
 "nbformat": 4,
 "nbformat_minor": 2
}
