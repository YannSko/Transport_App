{
 "cells": [
  {
   "cell_type": "code",
   "execution_count": 8,
   "metadata": {},
   "outputs": [
    {
     "name": "stdout",
     "output_type": "stream",
     "text": [
      "Data written to line_reports.json\n"
     ]
    }
   ],
   "source": [
    "import requests\n",
    "import json\n",
    "from dotenv import load_dotenv\n",
    "import os\n",
    "\n",
    "\n",
    "load_dotenv()\n",
    "\n",
    "def fetch_traffic_reports():\n",
    "    # URL API\n",
    "    url = 'https://api.navitia.io/v1/coverage/fr-idf/line_reports'\n",
    "\n",
    "    # clé api from env\n",
    "    api_key = os.getenv('token_navitia')\n",
    "    headers = {\n",
    "        'Authorization': api_key\n",
    "    }\n",
    "    \n",
    "    # requete\n",
    "    response = requests.get(url, headers=headers)\n",
    "\n",
    "  \n",
    "    if response.status_code == 200:\n",
    "       \n",
    "        data = response.json()\n",
    "        # ecriture requete positif en hson\n",
    "        with open('line_reports.json', 'w') as json_file:\n",
    "            json.dump(data, json_file, indent=4)\n",
    "        print(\"Data written to line_reports.json\")\n",
    "    else:\n",
    "        \n",
    "        print('Failed to retrieve data: ', response.status_code)\n",
    "\n",
    "# Appel func\n",
    "fetch_traffic_reports()\n"
   ]
  },
  {
   "cell_type": "code",
   "execution_count": 12,
   "metadata": {},
   "outputs": [
    {
     "data": {
      "text/html": [
       "<div>\n",
       "<style scoped>\n",
       "    .dataframe tbody tr th:only-of-type {\n",
       "        vertical-align: middle;\n",
       "    }\n",
       "\n",
       "    .dataframe tbody tr th {\n",
       "        vertical-align: top;\n",
       "    }\n",
       "\n",
       "    .dataframe thead th {\n",
       "        text-align: right;\n",
       "    }\n",
       "</style>\n",
       "<table border=\"1\" class=\"dataframe\">\n",
       "  <thead>\n",
       "    <tr style=\"text-align: right;\">\n",
       "      <th></th>\n",
       "      <th>feed_publishers</th>\n",
       "      <th>disruptions</th>\n",
       "      <th>line_reports</th>\n",
       "      <th>warnings</th>\n",
       "      <th>links</th>\n",
       "      <th>pagination.total_result</th>\n",
       "      <th>pagination.start_page</th>\n",
       "      <th>pagination.items_per_page</th>\n",
       "      <th>pagination.items_on_page</th>\n",
       "      <th>context.current_datetime</th>\n",
       "      <th>context.timezone</th>\n",
       "    </tr>\n",
       "  </thead>\n",
       "  <tbody>\n",
       "    <tr>\n",
       "      <th>0</th>\n",
       "      <td>[{'id': 'osm', 'name': 'openstreetmap', 'url':...</td>\n",
       "      <td>[{'id': 'e9cbe72a-04c5-11ef-9db7-0a58a9feac02'...</td>\n",
       "      <td>[{'line': {'id': 'line:IDFM:C00563', 'name': '...</td>\n",
       "      <td>[{'id': 'beta_endpoint', 'message': 'This serv...</td>\n",
       "      <td>[{'href': 'https://api.navitia.io/v1/coverage/...</td>\n",
       "      <td>1048</td>\n",
       "      <td>0</td>\n",
       "      <td>25</td>\n",
       "      <td>25</td>\n",
       "      <td>20240430T052303</td>\n",
       "      <td>Europe/Paris</td>\n",
       "    </tr>\n",
       "  </tbody>\n",
       "</table>\n",
       "</div>"
      ],
      "text/plain": [
       "                                     feed_publishers  \\\n",
       "0  [{'id': 'osm', 'name': 'openstreetmap', 'url':...   \n",
       "\n",
       "                                         disruptions  \\\n",
       "0  [{'id': 'e9cbe72a-04c5-11ef-9db7-0a58a9feac02'...   \n",
       "\n",
       "                                        line_reports  \\\n",
       "0  [{'line': {'id': 'line:IDFM:C00563', 'name': '...   \n",
       "\n",
       "                                            warnings  \\\n",
       "0  [{'id': 'beta_endpoint', 'message': 'This serv...   \n",
       "\n",
       "                                               links  pagination.total_result  \\\n",
       "0  [{'href': 'https://api.navitia.io/v1/coverage/...                     1048   \n",
       "\n",
       "   pagination.start_page  pagination.items_per_page  pagination.items_on_page  \\\n",
       "0                      0                         25                        25   \n",
       "\n",
       "  context.current_datetime context.timezone  \n",
       "0          20240430T052303     Europe/Paris  "
      ]
     },
     "execution_count": 12,
     "metadata": {},
     "output_type": "execute_result"
    }
   ],
   "source": [
    "import pandas as pd\n",
    "\n",
    "\n",
    "with open('line_reports.json') as f:\n",
    "    data = json.load(f)\n",
    "\n",
    "# Further normalize the 'messages' field from the 'disruptions' section\n",
    "messages = pd.json_normalize(\n",
    "    data, \n",
    "    record_path=['disruptions', 'messages'], \n",
    "    meta=[['disruptions', 'id'], ['disruptions', 'disruption_id']],\n",
    "    errors='ignore'\n",
    ")\n",
    "\n",
    "# Display the 'messages' DataFrame\n",
    "messages.head()\n",
    "\n",
    "\n",
    "messages\n"
   ]
  }
 ],
 "metadata": {
  "kernelspec": {
   "display_name": "BigPipe",
   "language": "python",
   "name": "python3"
  },
  "language_info": {
   "codemirror_mode": {
    "name": "ipython",
    "version": 3
   },
   "file_extension": ".py",
   "mimetype": "text/x-python",
   "name": "python",
   "nbconvert_exporter": "python",
   "pygments_lexer": "ipython3",
   "version": "3.11.0"
  }
 },
 "nbformat": 4,
 "nbformat_minor": 2
}
